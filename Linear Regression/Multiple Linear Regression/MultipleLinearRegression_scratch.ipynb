{
 "cells": [
  {
   "cell_type": "markdown",
   "metadata": {
    "id": "lsOp70VrHcIg"
   },
   "source": [
    "# Regression Problem"
   ]
  },
  {
   "cell_type": "code",
   "execution_count": 1,
   "metadata": {
    "id": "Qr_YEf8sHBfV"
   },
   "outputs": [],
   "source": [
    "import pandas as pd\n",
    "import numpy as np"
   ]
  },
  {
   "cell_type": "code",
   "execution_count": 2,
   "metadata": {
    "id": "ZfrRf-WrJtOv"
   },
   "outputs": [
    {
     "ename": "FileNotFoundError",
     "evalue": "[Errno 2] No such file or directory: 'Advertising.csv'",
     "output_type": "error",
     "traceback": [
      "\u001b[0;31m---------------------------------------------------------------------------\u001b[0m",
      "\u001b[0;31mFileNotFoundError\u001b[0m                         Traceback (most recent call last)",
      "\u001b[0;32m/var/folders/zd/x00f3z_d40zgsgh0nf_fpjmm0000gn/T/ipykernel_2896/31031327.py\u001b[0m in \u001b[0;36m<module>\u001b[0;34m\u001b[0m\n\u001b[0;32m----> 1\u001b[0;31m \u001b[0mdata\u001b[0m \u001b[0;34m=\u001b[0m \u001b[0mpd\u001b[0m\u001b[0;34m.\u001b[0m\u001b[0mread_csv\u001b[0m\u001b[0;34m(\u001b[0m\u001b[0;34m'Advertising.csv'\u001b[0m\u001b[0;34m)\u001b[0m\u001b[0;34m\u001b[0m\u001b[0;34m\u001b[0m\u001b[0m\n\u001b[0m",
      "\u001b[0;32m~/Documents/anaconda3/lib/python3.9/site-packages/pandas/util/_decorators.py\u001b[0m in \u001b[0;36mwrapper\u001b[0;34m(*args, **kwargs)\u001b[0m\n\u001b[1;32m    309\u001b[0m                     \u001b[0mstacklevel\u001b[0m\u001b[0;34m=\u001b[0m\u001b[0mstacklevel\u001b[0m\u001b[0;34m,\u001b[0m\u001b[0;34m\u001b[0m\u001b[0;34m\u001b[0m\u001b[0m\n\u001b[1;32m    310\u001b[0m                 )\n\u001b[0;32m--> 311\u001b[0;31m             \u001b[0;32mreturn\u001b[0m \u001b[0mfunc\u001b[0m\u001b[0;34m(\u001b[0m\u001b[0;34m*\u001b[0m\u001b[0margs\u001b[0m\u001b[0;34m,\u001b[0m \u001b[0;34m**\u001b[0m\u001b[0mkwargs\u001b[0m\u001b[0;34m)\u001b[0m\u001b[0;34m\u001b[0m\u001b[0;34m\u001b[0m\u001b[0m\n\u001b[0m\u001b[1;32m    312\u001b[0m \u001b[0;34m\u001b[0m\u001b[0m\n\u001b[1;32m    313\u001b[0m         \u001b[0;32mreturn\u001b[0m \u001b[0mwrapper\u001b[0m\u001b[0;34m\u001b[0m\u001b[0;34m\u001b[0m\u001b[0m\n",
      "\u001b[0;32m~/Documents/anaconda3/lib/python3.9/site-packages/pandas/io/parsers/readers.py\u001b[0m in \u001b[0;36mread_csv\u001b[0;34m(filepath_or_buffer, sep, delimiter, header, names, index_col, usecols, squeeze, prefix, mangle_dupe_cols, dtype, engine, converters, true_values, false_values, skipinitialspace, skiprows, skipfooter, nrows, na_values, keep_default_na, na_filter, verbose, skip_blank_lines, parse_dates, infer_datetime_format, keep_date_col, date_parser, dayfirst, cache_dates, iterator, chunksize, compression, thousands, decimal, lineterminator, quotechar, quoting, doublequote, escapechar, comment, encoding, encoding_errors, dialect, error_bad_lines, warn_bad_lines, on_bad_lines, delim_whitespace, low_memory, memory_map, float_precision, storage_options)\u001b[0m\n\u001b[1;32m    584\u001b[0m     \u001b[0mkwds\u001b[0m\u001b[0;34m.\u001b[0m\u001b[0mupdate\u001b[0m\u001b[0;34m(\u001b[0m\u001b[0mkwds_defaults\u001b[0m\u001b[0;34m)\u001b[0m\u001b[0;34m\u001b[0m\u001b[0;34m\u001b[0m\u001b[0m\n\u001b[1;32m    585\u001b[0m \u001b[0;34m\u001b[0m\u001b[0m\n\u001b[0;32m--> 586\u001b[0;31m     \u001b[0;32mreturn\u001b[0m \u001b[0m_read\u001b[0m\u001b[0;34m(\u001b[0m\u001b[0mfilepath_or_buffer\u001b[0m\u001b[0;34m,\u001b[0m \u001b[0mkwds\u001b[0m\u001b[0;34m)\u001b[0m\u001b[0;34m\u001b[0m\u001b[0;34m\u001b[0m\u001b[0m\n\u001b[0m\u001b[1;32m    587\u001b[0m \u001b[0;34m\u001b[0m\u001b[0m\n\u001b[1;32m    588\u001b[0m \u001b[0;34m\u001b[0m\u001b[0m\n",
      "\u001b[0;32m~/Documents/anaconda3/lib/python3.9/site-packages/pandas/io/parsers/readers.py\u001b[0m in \u001b[0;36m_read\u001b[0;34m(filepath_or_buffer, kwds)\u001b[0m\n\u001b[1;32m    480\u001b[0m \u001b[0;34m\u001b[0m\u001b[0m\n\u001b[1;32m    481\u001b[0m     \u001b[0;31m# Create the parser.\u001b[0m\u001b[0;34m\u001b[0m\u001b[0;34m\u001b[0m\u001b[0m\n\u001b[0;32m--> 482\u001b[0;31m     \u001b[0mparser\u001b[0m \u001b[0;34m=\u001b[0m \u001b[0mTextFileReader\u001b[0m\u001b[0;34m(\u001b[0m\u001b[0mfilepath_or_buffer\u001b[0m\u001b[0;34m,\u001b[0m \u001b[0;34m**\u001b[0m\u001b[0mkwds\u001b[0m\u001b[0;34m)\u001b[0m\u001b[0;34m\u001b[0m\u001b[0;34m\u001b[0m\u001b[0m\n\u001b[0m\u001b[1;32m    483\u001b[0m \u001b[0;34m\u001b[0m\u001b[0m\n\u001b[1;32m    484\u001b[0m     \u001b[0;32mif\u001b[0m \u001b[0mchunksize\u001b[0m \u001b[0;32mor\u001b[0m \u001b[0miterator\u001b[0m\u001b[0;34m:\u001b[0m\u001b[0;34m\u001b[0m\u001b[0;34m\u001b[0m\u001b[0m\n",
      "\u001b[0;32m~/Documents/anaconda3/lib/python3.9/site-packages/pandas/io/parsers/readers.py\u001b[0m in \u001b[0;36m__init__\u001b[0;34m(self, f, engine, **kwds)\u001b[0m\n\u001b[1;32m    809\u001b[0m             \u001b[0mself\u001b[0m\u001b[0;34m.\u001b[0m\u001b[0moptions\u001b[0m\u001b[0;34m[\u001b[0m\u001b[0;34m\"has_index_names\"\u001b[0m\u001b[0;34m]\u001b[0m \u001b[0;34m=\u001b[0m \u001b[0mkwds\u001b[0m\u001b[0;34m[\u001b[0m\u001b[0;34m\"has_index_names\"\u001b[0m\u001b[0;34m]\u001b[0m\u001b[0;34m\u001b[0m\u001b[0;34m\u001b[0m\u001b[0m\n\u001b[1;32m    810\u001b[0m \u001b[0;34m\u001b[0m\u001b[0m\n\u001b[0;32m--> 811\u001b[0;31m         \u001b[0mself\u001b[0m\u001b[0;34m.\u001b[0m\u001b[0m_engine\u001b[0m \u001b[0;34m=\u001b[0m \u001b[0mself\u001b[0m\u001b[0;34m.\u001b[0m\u001b[0m_make_engine\u001b[0m\u001b[0;34m(\u001b[0m\u001b[0mself\u001b[0m\u001b[0;34m.\u001b[0m\u001b[0mengine\u001b[0m\u001b[0;34m)\u001b[0m\u001b[0;34m\u001b[0m\u001b[0;34m\u001b[0m\u001b[0m\n\u001b[0m\u001b[1;32m    812\u001b[0m \u001b[0;34m\u001b[0m\u001b[0m\n\u001b[1;32m    813\u001b[0m     \u001b[0;32mdef\u001b[0m \u001b[0mclose\u001b[0m\u001b[0;34m(\u001b[0m\u001b[0mself\u001b[0m\u001b[0;34m)\u001b[0m\u001b[0;34m:\u001b[0m\u001b[0;34m\u001b[0m\u001b[0;34m\u001b[0m\u001b[0m\n",
      "\u001b[0;32m~/Documents/anaconda3/lib/python3.9/site-packages/pandas/io/parsers/readers.py\u001b[0m in \u001b[0;36m_make_engine\u001b[0;34m(self, engine)\u001b[0m\n\u001b[1;32m   1038\u001b[0m             )\n\u001b[1;32m   1039\u001b[0m         \u001b[0;31m# error: Too many arguments for \"ParserBase\"\u001b[0m\u001b[0;34m\u001b[0m\u001b[0;34m\u001b[0m\u001b[0m\n\u001b[0;32m-> 1040\u001b[0;31m         \u001b[0;32mreturn\u001b[0m \u001b[0mmapping\u001b[0m\u001b[0;34m[\u001b[0m\u001b[0mengine\u001b[0m\u001b[0;34m]\u001b[0m\u001b[0;34m(\u001b[0m\u001b[0mself\u001b[0m\u001b[0;34m.\u001b[0m\u001b[0mf\u001b[0m\u001b[0;34m,\u001b[0m \u001b[0;34m**\u001b[0m\u001b[0mself\u001b[0m\u001b[0;34m.\u001b[0m\u001b[0moptions\u001b[0m\u001b[0;34m)\u001b[0m  \u001b[0;31m# type: ignore[call-arg]\u001b[0m\u001b[0;34m\u001b[0m\u001b[0;34m\u001b[0m\u001b[0m\n\u001b[0m\u001b[1;32m   1041\u001b[0m \u001b[0;34m\u001b[0m\u001b[0m\n\u001b[1;32m   1042\u001b[0m     \u001b[0;32mdef\u001b[0m \u001b[0m_failover_to_python\u001b[0m\u001b[0;34m(\u001b[0m\u001b[0mself\u001b[0m\u001b[0;34m)\u001b[0m\u001b[0;34m:\u001b[0m\u001b[0;34m\u001b[0m\u001b[0;34m\u001b[0m\u001b[0m\n",
      "\u001b[0;32m~/Documents/anaconda3/lib/python3.9/site-packages/pandas/io/parsers/c_parser_wrapper.py\u001b[0m in \u001b[0;36m__init__\u001b[0;34m(self, src, **kwds)\u001b[0m\n\u001b[1;32m     49\u001b[0m \u001b[0;34m\u001b[0m\u001b[0m\n\u001b[1;32m     50\u001b[0m         \u001b[0;31m# open handles\u001b[0m\u001b[0;34m\u001b[0m\u001b[0;34m\u001b[0m\u001b[0m\n\u001b[0;32m---> 51\u001b[0;31m         \u001b[0mself\u001b[0m\u001b[0;34m.\u001b[0m\u001b[0m_open_handles\u001b[0m\u001b[0;34m(\u001b[0m\u001b[0msrc\u001b[0m\u001b[0;34m,\u001b[0m \u001b[0mkwds\u001b[0m\u001b[0;34m)\u001b[0m\u001b[0;34m\u001b[0m\u001b[0;34m\u001b[0m\u001b[0m\n\u001b[0m\u001b[1;32m     52\u001b[0m         \u001b[0;32massert\u001b[0m \u001b[0mself\u001b[0m\u001b[0;34m.\u001b[0m\u001b[0mhandles\u001b[0m \u001b[0;32mis\u001b[0m \u001b[0;32mnot\u001b[0m \u001b[0;32mNone\u001b[0m\u001b[0;34m\u001b[0m\u001b[0;34m\u001b[0m\u001b[0m\n\u001b[1;32m     53\u001b[0m \u001b[0;34m\u001b[0m\u001b[0m\n",
      "\u001b[0;32m~/Documents/anaconda3/lib/python3.9/site-packages/pandas/io/parsers/base_parser.py\u001b[0m in \u001b[0;36m_open_handles\u001b[0;34m(self, src, kwds)\u001b[0m\n\u001b[1;32m    220\u001b[0m         \u001b[0mLet\u001b[0m \u001b[0mthe\u001b[0m \u001b[0mreaders\u001b[0m \u001b[0mopen\u001b[0m \u001b[0mIOHandles\u001b[0m \u001b[0mafter\u001b[0m \u001b[0mthey\u001b[0m \u001b[0mare\u001b[0m \u001b[0mdone\u001b[0m \u001b[0;32mwith\u001b[0m \u001b[0mtheir\u001b[0m \u001b[0mpotential\u001b[0m \u001b[0mraises\u001b[0m\u001b[0;34m.\u001b[0m\u001b[0;34m\u001b[0m\u001b[0;34m\u001b[0m\u001b[0m\n\u001b[1;32m    221\u001b[0m         \"\"\"\n\u001b[0;32m--> 222\u001b[0;31m         self.handles = get_handle(\n\u001b[0m\u001b[1;32m    223\u001b[0m             \u001b[0msrc\u001b[0m\u001b[0;34m,\u001b[0m\u001b[0;34m\u001b[0m\u001b[0;34m\u001b[0m\u001b[0m\n\u001b[1;32m    224\u001b[0m             \u001b[0;34m\"r\"\u001b[0m\u001b[0;34m,\u001b[0m\u001b[0;34m\u001b[0m\u001b[0;34m\u001b[0m\u001b[0m\n",
      "\u001b[0;32m~/Documents/anaconda3/lib/python3.9/site-packages/pandas/io/common.py\u001b[0m in \u001b[0;36mget_handle\u001b[0;34m(path_or_buf, mode, encoding, compression, memory_map, is_text, errors, storage_options)\u001b[0m\n\u001b[1;32m    700\u001b[0m         \u001b[0;32mif\u001b[0m \u001b[0mioargs\u001b[0m\u001b[0;34m.\u001b[0m\u001b[0mencoding\u001b[0m \u001b[0;32mand\u001b[0m \u001b[0;34m\"b\"\u001b[0m \u001b[0;32mnot\u001b[0m \u001b[0;32min\u001b[0m \u001b[0mioargs\u001b[0m\u001b[0;34m.\u001b[0m\u001b[0mmode\u001b[0m\u001b[0;34m:\u001b[0m\u001b[0;34m\u001b[0m\u001b[0;34m\u001b[0m\u001b[0m\n\u001b[1;32m    701\u001b[0m             \u001b[0;31m# Encoding\u001b[0m\u001b[0;34m\u001b[0m\u001b[0;34m\u001b[0m\u001b[0m\n\u001b[0;32m--> 702\u001b[0;31m             handle = open(\n\u001b[0m\u001b[1;32m    703\u001b[0m                 \u001b[0mhandle\u001b[0m\u001b[0;34m,\u001b[0m\u001b[0;34m\u001b[0m\u001b[0;34m\u001b[0m\u001b[0m\n\u001b[1;32m    704\u001b[0m                 \u001b[0mioargs\u001b[0m\u001b[0;34m.\u001b[0m\u001b[0mmode\u001b[0m\u001b[0;34m,\u001b[0m\u001b[0;34m\u001b[0m\u001b[0;34m\u001b[0m\u001b[0m\n",
      "\u001b[0;31mFileNotFoundError\u001b[0m: [Errno 2] No such file or directory: 'Advertising.csv'"
     ]
    }
   ],
   "source": [
    "data = pd.read_csv('Advertising.csv')"
   ]
  },
  {
   "cell_type": "code",
   "execution_count": 3,
   "metadata": {
    "colab": {
     "base_uri": "https://localhost:8080/",
     "height": 424
    },
    "id": "qETaCi-aK0pn",
    "outputId": "30fb878d-af1d-46ae-844d-73b7ad96b5cf"
   },
   "outputs": [
    {
     "data": {
      "text/html": [
       "<div>\n",
       "<style scoped>\n",
       "    .dataframe tbody tr th:only-of-type {\n",
       "        vertical-align: middle;\n",
       "    }\n",
       "\n",
       "    .dataframe tbody tr th {\n",
       "        vertical-align: top;\n",
       "    }\n",
       "\n",
       "    .dataframe thead th {\n",
       "        text-align: right;\n",
       "    }\n",
       "</style>\n",
       "<table border=\"1\" class=\"dataframe\">\n",
       "  <thead>\n",
       "    <tr style=\"text-align: right;\">\n",
       "      <th></th>\n",
       "      <th>TV</th>\n",
       "      <th>Radio</th>\n",
       "      <th>Newspaper</th>\n",
       "      <th>Sales</th>\n",
       "    </tr>\n",
       "  </thead>\n",
       "  <tbody>\n",
       "    <tr>\n",
       "      <td>0</td>\n",
       "      <td>230.1</td>\n",
       "      <td>37.8</td>\n",
       "      <td>69.2</td>\n",
       "      <td>22.1</td>\n",
       "    </tr>\n",
       "    <tr>\n",
       "      <td>1</td>\n",
       "      <td>44.5</td>\n",
       "      <td>39.3</td>\n",
       "      <td>45.1</td>\n",
       "      <td>10.4</td>\n",
       "    </tr>\n",
       "    <tr>\n",
       "      <td>2</td>\n",
       "      <td>17.2</td>\n",
       "      <td>45.9</td>\n",
       "      <td>69.3</td>\n",
       "      <td>9.3</td>\n",
       "    </tr>\n",
       "    <tr>\n",
       "      <td>3</td>\n",
       "      <td>151.5</td>\n",
       "      <td>41.3</td>\n",
       "      <td>58.5</td>\n",
       "      <td>18.5</td>\n",
       "    </tr>\n",
       "    <tr>\n",
       "      <td>4</td>\n",
       "      <td>180.8</td>\n",
       "      <td>10.8</td>\n",
       "      <td>58.4</td>\n",
       "      <td>12.9</td>\n",
       "    </tr>\n",
       "    <tr>\n",
       "      <td>...</td>\n",
       "      <td>...</td>\n",
       "      <td>...</td>\n",
       "      <td>...</td>\n",
       "      <td>...</td>\n",
       "    </tr>\n",
       "    <tr>\n",
       "      <td>195</td>\n",
       "      <td>38.2</td>\n",
       "      <td>3.7</td>\n",
       "      <td>13.8</td>\n",
       "      <td>7.6</td>\n",
       "    </tr>\n",
       "    <tr>\n",
       "      <td>196</td>\n",
       "      <td>94.2</td>\n",
       "      <td>4.9</td>\n",
       "      <td>8.1</td>\n",
       "      <td>9.7</td>\n",
       "    </tr>\n",
       "    <tr>\n",
       "      <td>197</td>\n",
       "      <td>177.0</td>\n",
       "      <td>9.3</td>\n",
       "      <td>6.4</td>\n",
       "      <td>12.8</td>\n",
       "    </tr>\n",
       "    <tr>\n",
       "      <td>198</td>\n",
       "      <td>283.6</td>\n",
       "      <td>42.0</td>\n",
       "      <td>66.2</td>\n",
       "      <td>25.5</td>\n",
       "    </tr>\n",
       "    <tr>\n",
       "      <td>199</td>\n",
       "      <td>232.1</td>\n",
       "      <td>8.6</td>\n",
       "      <td>8.7</td>\n",
       "      <td>13.4</td>\n",
       "    </tr>\n",
       "  </tbody>\n",
       "</table>\n",
       "<p>200 rows × 4 columns</p>\n",
       "</div>"
      ],
      "text/plain": [
       "        TV  Radio  Newspaper  Sales\n",
       "0    230.1   37.8       69.2   22.1\n",
       "1     44.5   39.3       45.1   10.4\n",
       "2     17.2   45.9       69.3    9.3\n",
       "3    151.5   41.3       58.5   18.5\n",
       "4    180.8   10.8       58.4   12.9\n",
       "..     ...    ...        ...    ...\n",
       "195   38.2    3.7       13.8    7.6\n",
       "196   94.2    4.9        8.1    9.7\n",
       "197  177.0    9.3        6.4   12.8\n",
       "198  283.6   42.0       66.2   25.5\n",
       "199  232.1    8.6        8.7   13.4\n",
       "\n",
       "[200 rows x 4 columns]"
      ]
     },
     "execution_count": 3,
     "metadata": {},
     "output_type": "execute_result"
    }
   ],
   "source": [
    "data"
   ]
  },
  {
   "cell_type": "code",
   "execution_count": 4,
   "metadata": {
    "colab": {
     "base_uri": "https://localhost:8080/"
    },
    "id": "qj8XCgw7PJQn",
    "outputId": "aeafdc32-7c8d-414e-a645-1de7b1c9a3f5"
   },
   "outputs": [
    {
     "data": {
      "text/plain": [
       "pandas.core.frame.DataFrame"
      ]
     },
     "execution_count": 4,
     "metadata": {},
     "output_type": "execute_result"
    }
   ],
   "source": [
    "type(data)"
   ]
  },
  {
   "cell_type": "code",
   "execution_count": 5,
   "metadata": {
    "colab": {
     "base_uri": "https://localhost:8080/"
    },
    "id": "BXlgMAN9RF0H",
    "outputId": "d0c387e2-fa78-4e25-ac3f-9151c78f7238"
   },
   "outputs": [
    {
     "data": {
      "text/plain": [
       "0      22.1\n",
       "1      10.4\n",
       "2       9.3\n",
       "3      18.5\n",
       "4      12.9\n",
       "       ... \n",
       "195     7.6\n",
       "196     9.7\n",
       "197    12.8\n",
       "198    25.5\n",
       "199    13.4\n",
       "Name: Sales, Length: 200, dtype: float64"
      ]
     },
     "execution_count": 5,
     "metadata": {},
     "output_type": "execute_result"
    }
   ],
   "source": [
    "#response\n",
    "y = data['Sales']\n",
    "y"
   ]
  },
  {
   "cell_type": "code",
   "execution_count": 6,
   "metadata": {
    "colab": {
     "base_uri": "https://localhost:8080/"
    },
    "id": "4s0k6GI8RruG",
    "outputId": "01a3ff83-d21a-4a37-e85c-27d7a51f06fb"
   },
   "outputs": [
    {
     "data": {
      "text/plain": [
       "pandas.core.series.Series"
      ]
     },
     "execution_count": 6,
     "metadata": {},
     "output_type": "execute_result"
    }
   ],
   "source": [
    "type(y)"
   ]
  },
  {
   "cell_type": "code",
   "execution_count": 7,
   "metadata": {
    "colab": {
     "base_uri": "https://localhost:8080/"
    },
    "id": "0hRcJwQ6RU4u",
    "outputId": "798c2a75-0189-4d9a-d666-73b5c90b1789"
   },
   "outputs": [
    {
     "name": "stdout",
     "output_type": "stream",
     "text": [
      "(1, 200)\n"
     ]
    }
   ],
   "source": [
    "#converting to matrix\n",
    "y = np.matrix(y)\n",
    "print(y.shape)"
   ]
  },
  {
   "cell_type": "code",
   "execution_count": 8,
   "metadata": {
    "colab": {
     "base_uri": "https://localhost:8080/"
    },
    "id": "5E1gDx04SQ6X",
    "outputId": "49e83968-97b3-4548-adb4-52cef43c446b"
   },
   "outputs": [
    {
     "name": "stdout",
     "output_type": "stream",
     "text": [
      "(200, 1)\n"
     ]
    }
   ],
   "source": [
    "y=np.transpose(y)\n",
    "print(y.shape)"
   ]
  },
  {
   "cell_type": "code",
   "execution_count": 9,
   "metadata": {
    "colab": {
     "base_uri": "https://localhost:8080/"
    },
    "id": "6tUhMfBjSdvH",
    "outputId": "de4a50df-5f00-42d7-d01e-304f6717c62b"
   },
   "outputs": [
    {
     "name": "stdout",
     "output_type": "stream",
     "text": [
      "        TV  Radio  Newspaper\n",
      "0    230.1   37.8       69.2\n",
      "1     44.5   39.3       45.1\n",
      "2     17.2   45.9       69.3\n",
      "3    151.5   41.3       58.5\n",
      "4    180.8   10.8       58.4\n",
      "..     ...    ...        ...\n",
      "195   38.2    3.7       13.8\n",
      "196   94.2    4.9        8.1\n",
      "197  177.0    9.3        6.4\n",
      "198  283.6   42.0       66.2\n",
      "199  232.1    8.6        8.7\n",
      "\n",
      "[200 rows x 3 columns]\n",
      "<class 'pandas.core.frame.DataFrame'>\n"
     ]
    }
   ],
   "source": [
    "X = data.drop([\"Sales\"], axis = 1)\n",
    "print(X)\n",
    "print(type(X))"
   ]
  },
  {
   "cell_type": "code",
   "execution_count": 10,
   "metadata": {
    "id": "RGc08H5ETWrX"
   },
   "outputs": [],
   "source": [
    "X = np.matrix(X)"
   ]
  },
  {
   "cell_type": "code",
   "execution_count": 11,
   "metadata": {
    "colab": {
     "base_uri": "https://localhost:8080/"
    },
    "id": "YzRwaQukTbce",
    "outputId": "308a3cf1-0f67-4dc0-ea91-aef679d3807f"
   },
   "outputs": [
    {
     "data": {
      "text/plain": [
       "(200,)"
      ]
     },
     "execution_count": 11,
     "metadata": {},
     "output_type": "execute_result"
    }
   ],
   "source": [
    "#to add 1 as a column vector\n",
    "c = np.ones(len(X))\n",
    "c.shape"
   ]
  },
  {
   "cell_type": "code",
   "execution_count": 12,
   "metadata": {
    "colab": {
     "base_uri": "https://localhost:8080/"
    },
    "id": "OuCDHpVBTvxW",
    "outputId": "5ff50d13-017b-4ccb-8bc5-6778986286fc"
   },
   "outputs": [
    {
     "data": {
      "text/plain": [
       "numpy.ndarray"
      ]
     },
     "execution_count": 12,
     "metadata": {},
     "output_type": "execute_result"
    }
   ],
   "source": [
    "type(c)"
   ]
  },
  {
   "cell_type": "code",
   "execution_count": 13,
   "metadata": {
    "colab": {
     "base_uri": "https://localhost:8080/"
    },
    "id": "VmeD6nl3T6uG",
    "outputId": "336c355f-1e0d-4d54-9283-be28be8a0031"
   },
   "outputs": [
    {
     "data": {
      "text/plain": [
       "(200, 1)"
      ]
     },
     "execution_count": 13,
     "metadata": {},
     "output_type": "execute_result"
    }
   ],
   "source": [
    "c = np.transpose(np.matrix(c))\n",
    "c.shape"
   ]
  },
  {
   "cell_type": "code",
   "execution_count": 14,
   "metadata": {
    "id": "C-tJt4p4URog"
   },
   "outputs": [],
   "source": [
    "X = np.append(c, X, axis = 1)"
   ]
  },
  {
   "cell_type": "code",
   "execution_count": 15,
   "metadata": {
    "colab": {
     "base_uri": "https://localhost:8080/"
    },
    "id": "DpEFkyd0Ukhe",
    "outputId": "a16fc029-e1f1-4d59-8465-9e3bd4e41ed5"
   },
   "outputs": [
    {
     "name": "stdout",
     "output_type": "stream",
     "text": [
      "[[  1.  230.1  37.8  69.2]\n",
      " [  1.   44.5  39.3  45.1]\n",
      " [  1.   17.2  45.9  69.3]\n",
      " [  1.  151.5  41.3  58.5]\n",
      " [  1.  180.8  10.8  58.4]\n",
      " [  1.    8.7  48.9  75. ]\n",
      " [  1.   57.5  32.8  23.5]\n",
      " [  1.  120.2  19.6  11.6]\n",
      " [  1.    8.6   2.1   1. ]\n",
      " [  1.  199.8   2.6  21.2]\n",
      " [  1.   66.1   5.8  24.2]\n",
      " [  1.  214.7  24.    4. ]\n",
      " [  1.   23.8  35.1  65.9]\n",
      " [  1.   97.5   7.6   7.2]\n",
      " [  1.  204.1  32.9  46. ]\n",
      " [  1.  195.4  47.7  52.9]\n",
      " [  1.   67.8  36.6 114. ]\n",
      " [  1.  281.4  39.6  55.8]\n",
      " [  1.   69.2  20.5  18.3]\n",
      " [  1.  147.3  23.9  19.1]\n",
      " [  1.  218.4  27.7  53.4]\n",
      " [  1.  237.4   5.1  23.5]\n",
      " [  1.   13.2  15.9  49.6]\n",
      " [  1.  228.3  16.9  26.2]\n",
      " [  1.   62.3  12.6  18.3]\n",
      " [  1.  262.9   3.5  19.5]\n",
      " [  1.  142.9  29.3  12.6]\n",
      " [  1.  240.1  16.7  22.9]\n",
      " [  1.  248.8  27.1  22.9]\n",
      " [  1.   70.6  16.   40.8]\n",
      " [  1.  292.9  28.3  43.2]\n",
      " [  1.  112.9  17.4  38.6]\n",
      " [  1.   97.2   1.5  30. ]\n",
      " [  1.  265.6  20.    0.3]\n",
      " [  1.   95.7   1.4   7.4]\n",
      " [  1.  290.7   4.1   8.5]\n",
      " [  1.  266.9  43.8   5. ]\n",
      " [  1.   74.7  49.4  45.7]\n",
      " [  1.   43.1  26.7  35.1]\n",
      " [  1.  228.   37.7  32. ]\n",
      " [  1.  202.5  22.3  31.6]\n",
      " [  1.  177.   33.4  38.7]\n",
      " [  1.  293.6  27.7   1.8]\n",
      " [  1.  206.9   8.4  26.4]\n",
      " [  1.   25.1  25.7  43.3]\n",
      " [  1.  175.1  22.5  31.5]\n",
      " [  1.   89.7   9.9  35.7]\n",
      " [  1.  239.9  41.5  18.5]\n",
      " [  1.  227.2  15.8  49.9]\n",
      " [  1.   66.9  11.7  36.8]\n",
      " [  1.  199.8   3.1  34.6]\n",
      " [  1.  100.4   9.6   3.6]\n",
      " [  1.  216.4  41.7  39.6]\n",
      " [  1.  182.6  46.2  58.7]\n",
      " [  1.  262.7  28.8  15.9]\n",
      " [  1.  198.9  49.4  60. ]\n",
      " [  1.    7.3  28.1  41.4]\n",
      " [  1.  136.2  19.2  16.6]\n",
      " [  1.  210.8  49.6  37.7]\n",
      " [  1.  210.7  29.5   9.3]\n",
      " [  1.   53.5   2.   21.4]\n",
      " [  1.  261.3  42.7  54.7]\n",
      " [  1.  239.3  15.5  27.3]\n",
      " [  1.  102.7  29.6   8.4]\n",
      " [  1.  131.1  42.8  28.9]\n",
      " [  1.   69.    9.3   0.9]\n",
      " [  1.   31.5  24.6   2.2]\n",
      " [  1.  139.3  14.5  10.2]\n",
      " [  1.  237.4  27.5  11. ]\n",
      " [  1.  216.8  43.9  27.2]\n",
      " [  1.  199.1  30.6  38.7]\n",
      " [  1.  109.8  14.3  31.7]\n",
      " [  1.   26.8  33.   19.3]\n",
      " [  1.  129.4   5.7  31.3]\n",
      " [  1.  213.4  24.6  13.1]\n",
      " [  1.   16.9  43.7  89.4]\n",
      " [  1.   27.5   1.6  20.7]\n",
      " [  1.  120.5  28.5  14.2]\n",
      " [  1.    5.4  29.9   9.4]\n",
      " [  1.  116.    7.7  23.1]\n",
      " [  1.   76.4  26.7  22.3]\n",
      " [  1.  239.8   4.1  36.9]\n",
      " [  1.   75.3  20.3  32.5]\n",
      " [  1.   68.4  44.5  35.6]\n",
      " [  1.  213.5  43.   33.8]\n",
      " [  1.  193.2  18.4  65.7]\n",
      " [  1.   76.3  27.5  16. ]\n",
      " [  1.  110.7  40.6  63.2]\n",
      " [  1.   88.3  25.5  73.4]\n",
      " [  1.  109.8  47.8  51.4]\n",
      " [  1.  134.3   4.9   9.3]\n",
      " [  1.   28.6   1.5  33. ]\n",
      " [  1.  217.7  33.5  59. ]\n",
      " [  1.  250.9  36.5  72.3]\n",
      " [  1.  107.4  14.   10.9]\n",
      " [  1.  163.3  31.6  52.9]\n",
      " [  1.  197.6   3.5   5.9]\n",
      " [  1.  184.9  21.   22. ]\n",
      " [  1.  289.7  42.3  51.2]\n",
      " [  1.  135.2  41.7  45.9]\n",
      " [  1.  222.4   4.3  49.8]\n",
      " [  1.  296.4  36.3 100.9]\n",
      " [  1.  280.2  10.1  21.4]\n",
      " [  1.  187.9  17.2  17.9]\n",
      " [  1.  238.2  34.3   5.3]\n",
      " [  1.  137.9  46.4  59. ]\n",
      " [  1.   25.   11.   29.7]\n",
      " [  1.   90.4   0.3  23.2]\n",
      " [  1.   13.1   0.4  25.6]\n",
      " [  1.  255.4  26.9   5.5]\n",
      " [  1.  225.8   8.2  56.5]\n",
      " [  1.  241.7  38.   23.2]\n",
      " [  1.  175.7  15.4   2.4]\n",
      " [  1.  209.6  20.6  10.7]\n",
      " [  1.   78.2  46.8  34.5]\n",
      " [  1.   75.1  35.   52.7]\n",
      " [  1.  139.2  14.3  25.6]\n",
      " [  1.   76.4   0.8  14.8]\n",
      " [  1.  125.7  36.9  79.2]\n",
      " [  1.   19.4  16.   22.3]\n",
      " [  1.  141.3  26.8  46.2]\n",
      " [  1.   18.8  21.7  50.4]\n",
      " [  1.  224.    2.4  15.6]\n",
      " [  1.  123.1  34.6  12.4]\n",
      " [  1.  229.5  32.3  74.2]\n",
      " [  1.   87.2  11.8  25.9]\n",
      " [  1.    7.8  38.9  50.6]\n",
      " [  1.   80.2   0.    9.2]\n",
      " [  1.  220.3  49.    3.2]\n",
      " [  1.   59.6  12.   43.1]\n",
      " [  1.    0.7  39.6   8.7]\n",
      " [  1.  265.2   2.9  43. ]\n",
      " [  1.    8.4  27.2   2.1]\n",
      " [  1.  219.8  33.5  45.1]\n",
      " [  1.   36.9  38.6  65.6]\n",
      " [  1.   48.3  47.    8.5]\n",
      " [  1.   25.6  39.    9.3]\n",
      " [  1.  273.7  28.9  59.7]\n",
      " [  1.   43.   25.9  20.5]\n",
      " [  1.  184.9  43.9   1.7]\n",
      " [  1.   73.4  17.   12.9]\n",
      " [  1.  193.7  35.4  75.6]\n",
      " [  1.  220.5  33.2  37.9]\n",
      " [  1.  104.6   5.7  34.4]\n",
      " [  1.   96.2  14.8  38.9]\n",
      " [  1.  140.3   1.9   9. ]\n",
      " [  1.  240.1   7.3   8.7]\n",
      " [  1.  243.2  49.   44.3]\n",
      " [  1.   38.   40.3  11.9]\n",
      " [  1.   44.7  25.8  20.6]\n",
      " [  1.  280.7  13.9  37. ]\n",
      " [  1.  121.    8.4  48.7]\n",
      " [  1.  197.6  23.3  14.2]\n",
      " [  1.  171.3  39.7  37.7]\n",
      " [  1.  187.8  21.1   9.5]\n",
      " [  1.    4.1  11.6   5.7]\n",
      " [  1.   93.9  43.5  50.5]\n",
      " [  1.  149.8   1.3  24.3]\n",
      " [  1.   11.7  36.9  45.2]\n",
      " [  1.  131.7  18.4  34.6]\n",
      " [  1.  172.5  18.1  30.7]\n",
      " [  1.   85.7  35.8  49.3]\n",
      " [  1.  188.4  18.1  25.6]\n",
      " [  1.  163.5  36.8   7.4]\n",
      " [  1.  117.2  14.7   5.4]\n",
      " [  1.  234.5   3.4  84.8]\n",
      " [  1.   17.9  37.6  21.6]\n",
      " [  1.  206.8   5.2  19.4]\n",
      " [  1.  215.4  23.6  57.6]\n",
      " [  1.  284.3  10.6   6.4]\n",
      " [  1.   50.   11.6  18.4]\n",
      " [  1.  164.5  20.9  47.4]\n",
      " [  1.   19.6  20.1  17. ]\n",
      " [  1.  168.4   7.1  12.8]\n",
      " [  1.  222.4   3.4  13.1]\n",
      " [  1.  276.9  48.9  41.8]\n",
      " [  1.  248.4  30.2  20.3]\n",
      " [  1.  170.2   7.8  35.2]\n",
      " [  1.  276.7   2.3  23.7]\n",
      " [  1.  165.6  10.   17.6]\n",
      " [  1.  156.6   2.6   8.3]\n",
      " [  1.  218.5   5.4  27.4]\n",
      " [  1.   56.2   5.7  29.7]\n",
      " [  1.  287.6  43.   71.8]\n",
      " [  1.  253.8  21.3  30. ]\n",
      " [  1.  205.   45.1  19.6]\n",
      " [  1.  139.5   2.1  26.6]\n",
      " [  1.  191.1  28.7  18.2]\n",
      " [  1.  286.   13.9   3.7]\n",
      " [  1.   18.7  12.1  23.4]\n",
      " [  1.   39.5  41.1   5.8]\n",
      " [  1.   75.5  10.8   6. ]\n",
      " [  1.   17.2   4.1  31.6]\n",
      " [  1.  166.8  42.    3.6]\n",
      " [  1.  149.7  35.6   6. ]\n",
      " [  1.   38.2   3.7  13.8]\n",
      " [  1.   94.2   4.9   8.1]\n",
      " [  1.  177.    9.3   6.4]\n",
      " [  1.  283.6  42.   66.2]\n",
      " [  1.  232.1   8.6   8.7]]\n"
     ]
    }
   ],
   "source": [
    "print(X)"
   ]
  },
  {
   "cell_type": "code",
   "execution_count": 16,
   "metadata": {},
   "outputs": [
    {
     "data": {
      "text/plain": [
       "matrix([[  1. , 230.1,  37.8,  69.2],\n",
       "        [  1. ,  44.5,  39.3,  45.1],\n",
       "        [  1. ,  17.2,  45.9,  69.3],\n",
       "        [  1. , 151.5,  41.3,  58.5],\n",
       "        [  1. , 180.8,  10.8,  58.4],\n",
       "        [  1. ,   8.7,  48.9,  75. ],\n",
       "        [  1. ,  57.5,  32.8,  23.5],\n",
       "        [  1. , 120.2,  19.6,  11.6],\n",
       "        [  1. ,   8.6,   2.1,   1. ],\n",
       "        [  1. , 199.8,   2.6,  21.2],\n",
       "        [  1. ,  66.1,   5.8,  24.2],\n",
       "        [  1. , 214.7,  24. ,   4. ],\n",
       "        [  1. ,  23.8,  35.1,  65.9],\n",
       "        [  1. ,  97.5,   7.6,   7.2],\n",
       "        [  1. , 204.1,  32.9,  46. ],\n",
       "        [  1. , 195.4,  47.7,  52.9],\n",
       "        [  1. ,  67.8,  36.6, 114. ],\n",
       "        [  1. , 281.4,  39.6,  55.8],\n",
       "        [  1. ,  69.2,  20.5,  18.3],\n",
       "        [  1. , 147.3,  23.9,  19.1],\n",
       "        [  1. , 218.4,  27.7,  53.4],\n",
       "        [  1. , 237.4,   5.1,  23.5],\n",
       "        [  1. ,  13.2,  15.9,  49.6],\n",
       "        [  1. , 228.3,  16.9,  26.2],\n",
       "        [  1. ,  62.3,  12.6,  18.3],\n",
       "        [  1. , 262.9,   3.5,  19.5],\n",
       "        [  1. , 142.9,  29.3,  12.6],\n",
       "        [  1. , 240.1,  16.7,  22.9],\n",
       "        [  1. , 248.8,  27.1,  22.9],\n",
       "        [  1. ,  70.6,  16. ,  40.8],\n",
       "        [  1. , 292.9,  28.3,  43.2],\n",
       "        [  1. , 112.9,  17.4,  38.6],\n",
       "        [  1. ,  97.2,   1.5,  30. ],\n",
       "        [  1. , 265.6,  20. ,   0.3],\n",
       "        [  1. ,  95.7,   1.4,   7.4],\n",
       "        [  1. , 290.7,   4.1,   8.5],\n",
       "        [  1. , 266.9,  43.8,   5. ],\n",
       "        [  1. ,  74.7,  49.4,  45.7],\n",
       "        [  1. ,  43.1,  26.7,  35.1],\n",
       "        [  1. , 228. ,  37.7,  32. ],\n",
       "        [  1. , 202.5,  22.3,  31.6],\n",
       "        [  1. , 177. ,  33.4,  38.7],\n",
       "        [  1. , 293.6,  27.7,   1.8],\n",
       "        [  1. , 206.9,   8.4,  26.4],\n",
       "        [  1. ,  25.1,  25.7,  43.3],\n",
       "        [  1. , 175.1,  22.5,  31.5],\n",
       "        [  1. ,  89.7,   9.9,  35.7],\n",
       "        [  1. , 239.9,  41.5,  18.5],\n",
       "        [  1. , 227.2,  15.8,  49.9],\n",
       "        [  1. ,  66.9,  11.7,  36.8],\n",
       "        [  1. , 199.8,   3.1,  34.6],\n",
       "        [  1. , 100.4,   9.6,   3.6],\n",
       "        [  1. , 216.4,  41.7,  39.6],\n",
       "        [  1. , 182.6,  46.2,  58.7],\n",
       "        [  1. , 262.7,  28.8,  15.9],\n",
       "        [  1. , 198.9,  49.4,  60. ],\n",
       "        [  1. ,   7.3,  28.1,  41.4],\n",
       "        [  1. , 136.2,  19.2,  16.6],\n",
       "        [  1. , 210.8,  49.6,  37.7],\n",
       "        [  1. , 210.7,  29.5,   9.3],\n",
       "        [  1. ,  53.5,   2. ,  21.4],\n",
       "        [  1. , 261.3,  42.7,  54.7],\n",
       "        [  1. , 239.3,  15.5,  27.3],\n",
       "        [  1. , 102.7,  29.6,   8.4],\n",
       "        [  1. , 131.1,  42.8,  28.9],\n",
       "        [  1. ,  69. ,   9.3,   0.9],\n",
       "        [  1. ,  31.5,  24.6,   2.2],\n",
       "        [  1. , 139.3,  14.5,  10.2],\n",
       "        [  1. , 237.4,  27.5,  11. ],\n",
       "        [  1. , 216.8,  43.9,  27.2],\n",
       "        [  1. , 199.1,  30.6,  38.7],\n",
       "        [  1. , 109.8,  14.3,  31.7],\n",
       "        [  1. ,  26.8,  33. ,  19.3],\n",
       "        [  1. , 129.4,   5.7,  31.3],\n",
       "        [  1. , 213.4,  24.6,  13.1],\n",
       "        [  1. ,  16.9,  43.7,  89.4],\n",
       "        [  1. ,  27.5,   1.6,  20.7],\n",
       "        [  1. , 120.5,  28.5,  14.2],\n",
       "        [  1. ,   5.4,  29.9,   9.4],\n",
       "        [  1. , 116. ,   7.7,  23.1],\n",
       "        [  1. ,  76.4,  26.7,  22.3],\n",
       "        [  1. , 239.8,   4.1,  36.9],\n",
       "        [  1. ,  75.3,  20.3,  32.5],\n",
       "        [  1. ,  68.4,  44.5,  35.6],\n",
       "        [  1. , 213.5,  43. ,  33.8],\n",
       "        [  1. , 193.2,  18.4,  65.7],\n",
       "        [  1. ,  76.3,  27.5,  16. ],\n",
       "        [  1. , 110.7,  40.6,  63.2],\n",
       "        [  1. ,  88.3,  25.5,  73.4],\n",
       "        [  1. , 109.8,  47.8,  51.4],\n",
       "        [  1. , 134.3,   4.9,   9.3],\n",
       "        [  1. ,  28.6,   1.5,  33. ],\n",
       "        [  1. , 217.7,  33.5,  59. ],\n",
       "        [  1. , 250.9,  36.5,  72.3],\n",
       "        [  1. , 107.4,  14. ,  10.9],\n",
       "        [  1. , 163.3,  31.6,  52.9],\n",
       "        [  1. , 197.6,   3.5,   5.9],\n",
       "        [  1. , 184.9,  21. ,  22. ],\n",
       "        [  1. , 289.7,  42.3,  51.2],\n",
       "        [  1. , 135.2,  41.7,  45.9],\n",
       "        [  1. , 222.4,   4.3,  49.8],\n",
       "        [  1. , 296.4,  36.3, 100.9],\n",
       "        [  1. , 280.2,  10.1,  21.4],\n",
       "        [  1. , 187.9,  17.2,  17.9],\n",
       "        [  1. , 238.2,  34.3,   5.3],\n",
       "        [  1. , 137.9,  46.4,  59. ],\n",
       "        [  1. ,  25. ,  11. ,  29.7],\n",
       "        [  1. ,  90.4,   0.3,  23.2],\n",
       "        [  1. ,  13.1,   0.4,  25.6],\n",
       "        [  1. , 255.4,  26.9,   5.5],\n",
       "        [  1. , 225.8,   8.2,  56.5],\n",
       "        [  1. , 241.7,  38. ,  23.2],\n",
       "        [  1. , 175.7,  15.4,   2.4],\n",
       "        [  1. , 209.6,  20.6,  10.7],\n",
       "        [  1. ,  78.2,  46.8,  34.5],\n",
       "        [  1. ,  75.1,  35. ,  52.7],\n",
       "        [  1. , 139.2,  14.3,  25.6],\n",
       "        [  1. ,  76.4,   0.8,  14.8],\n",
       "        [  1. , 125.7,  36.9,  79.2],\n",
       "        [  1. ,  19.4,  16. ,  22.3],\n",
       "        [  1. , 141.3,  26.8,  46.2],\n",
       "        [  1. ,  18.8,  21.7,  50.4],\n",
       "        [  1. , 224. ,   2.4,  15.6],\n",
       "        [  1. , 123.1,  34.6,  12.4],\n",
       "        [  1. , 229.5,  32.3,  74.2],\n",
       "        [  1. ,  87.2,  11.8,  25.9],\n",
       "        [  1. ,   7.8,  38.9,  50.6],\n",
       "        [  1. ,  80.2,   0. ,   9.2],\n",
       "        [  1. , 220.3,  49. ,   3.2],\n",
       "        [  1. ,  59.6,  12. ,  43.1],\n",
       "        [  1. ,   0.7,  39.6,   8.7],\n",
       "        [  1. , 265.2,   2.9,  43. ],\n",
       "        [  1. ,   8.4,  27.2,   2.1],\n",
       "        [  1. , 219.8,  33.5,  45.1],\n",
       "        [  1. ,  36.9,  38.6,  65.6],\n",
       "        [  1. ,  48.3,  47. ,   8.5],\n",
       "        [  1. ,  25.6,  39. ,   9.3],\n",
       "        [  1. , 273.7,  28.9,  59.7],\n",
       "        [  1. ,  43. ,  25.9,  20.5],\n",
       "        [  1. , 184.9,  43.9,   1.7],\n",
       "        [  1. ,  73.4,  17. ,  12.9],\n",
       "        [  1. , 193.7,  35.4,  75.6],\n",
       "        [  1. , 220.5,  33.2,  37.9],\n",
       "        [  1. , 104.6,   5.7,  34.4],\n",
       "        [  1. ,  96.2,  14.8,  38.9],\n",
       "        [  1. , 140.3,   1.9,   9. ],\n",
       "        [  1. , 240.1,   7.3,   8.7],\n",
       "        [  1. , 243.2,  49. ,  44.3],\n",
       "        [  1. ,  38. ,  40.3,  11.9],\n",
       "        [  1. ,  44.7,  25.8,  20.6],\n",
       "        [  1. , 280.7,  13.9,  37. ],\n",
       "        [  1. , 121. ,   8.4,  48.7],\n",
       "        [  1. , 197.6,  23.3,  14.2],\n",
       "        [  1. , 171.3,  39.7,  37.7],\n",
       "        [  1. , 187.8,  21.1,   9.5],\n",
       "        [  1. ,   4.1,  11.6,   5.7],\n",
       "        [  1. ,  93.9,  43.5,  50.5],\n",
       "        [  1. , 149.8,   1.3,  24.3],\n",
       "        [  1. ,  11.7,  36.9,  45.2],\n",
       "        [  1. , 131.7,  18.4,  34.6],\n",
       "        [  1. , 172.5,  18.1,  30.7],\n",
       "        [  1. ,  85.7,  35.8,  49.3],\n",
       "        [  1. , 188.4,  18.1,  25.6],\n",
       "        [  1. , 163.5,  36.8,   7.4],\n",
       "        [  1. , 117.2,  14.7,   5.4],\n",
       "        [  1. , 234.5,   3.4,  84.8],\n",
       "        [  1. ,  17.9,  37.6,  21.6],\n",
       "        [  1. , 206.8,   5.2,  19.4],\n",
       "        [  1. , 215.4,  23.6,  57.6],\n",
       "        [  1. , 284.3,  10.6,   6.4],\n",
       "        [  1. ,  50. ,  11.6,  18.4],\n",
       "        [  1. , 164.5,  20.9,  47.4],\n",
       "        [  1. ,  19.6,  20.1,  17. ],\n",
       "        [  1. , 168.4,   7.1,  12.8],\n",
       "        [  1. , 222.4,   3.4,  13.1],\n",
       "        [  1. , 276.9,  48.9,  41.8],\n",
       "        [  1. , 248.4,  30.2,  20.3],\n",
       "        [  1. , 170.2,   7.8,  35.2],\n",
       "        [  1. , 276.7,   2.3,  23.7],\n",
       "        [  1. , 165.6,  10. ,  17.6],\n",
       "        [  1. , 156.6,   2.6,   8.3],\n",
       "        [  1. , 218.5,   5.4,  27.4],\n",
       "        [  1. ,  56.2,   5.7,  29.7],\n",
       "        [  1. , 287.6,  43. ,  71.8],\n",
       "        [  1. , 253.8,  21.3,  30. ],\n",
       "        [  1. , 205. ,  45.1,  19.6],\n",
       "        [  1. , 139.5,   2.1,  26.6],\n",
       "        [  1. , 191.1,  28.7,  18.2],\n",
       "        [  1. , 286. ,  13.9,   3.7],\n",
       "        [  1. ,  18.7,  12.1,  23.4],\n",
       "        [  1. ,  39.5,  41.1,   5.8],\n",
       "        [  1. ,  75.5,  10.8,   6. ],\n",
       "        [  1. ,  17.2,   4.1,  31.6],\n",
       "        [  1. , 166.8,  42. ,   3.6],\n",
       "        [  1. , 149.7,  35.6,   6. ],\n",
       "        [  1. ,  38.2,   3.7,  13.8],\n",
       "        [  1. ,  94.2,   4.9,   8.1],\n",
       "        [  1. , 177. ,   9.3,   6.4],\n",
       "        [  1. , 283.6,  42. ,  66.2],\n",
       "        [  1. , 232.1,   8.6,   8.7]])"
      ]
     },
     "execution_count": 16,
     "metadata": {},
     "output_type": "execute_result"
    }
   ],
   "source": [
    "X"
   ]
  },
  {
   "cell_type": "code",
   "execution_count": 17,
   "metadata": {
    "id": "pNe5dfxbViOW"
   },
   "outputs": [],
   "source": [
    "from sklearn.model_selection import train_test_split\n",
    "X_train, X_test, y_train, y_test = train_test_split(X,y, test_size = 0.25, random_state = 0)"
   ]
  },
  {
   "cell_type": "code",
   "execution_count": 18,
   "metadata": {
    "colab": {
     "base_uri": "https://localhost:8080/"
    },
    "id": "uXTBhllmY2u2",
    "outputId": "16f6a452-2e6a-49c7-bc86-960965146da6"
   },
   "outputs": [
    {
     "name": "stdout",
     "output_type": "stream",
     "text": [
      "Beta is:  [[2.89257005e+00]\n",
      " [4.41623466e-02]\n",
      " [1.99003680e-01]\n",
      " [1.16267829e-03]]\n"
     ]
    }
   ],
   "source": [
    "# Model Train\n",
    "\n",
    "temp1 = np.dot(np.transpose(X_train), X_train)\n",
    "\n",
    "# pinv is pseudo inverse \n",
    "# pseudo inverse is essential here as inverse require the matrix should be symmetric\n",
    "# but in real life X_t * x may not be symmetric\n",
    "temp1 = np.linalg.pinv(temp1)\n",
    "\n",
    "temp2 = np.dot(np.transpose(X_train), y_train)\n",
    "\n",
    "beta = np.dot(temp1, temp2)\n",
    "\n",
    "print(\"Beta is: \", beta)\n"
   ]
  },
  {
   "cell_type": "code",
   "execution_count": 19,
   "metadata": {
    "colab": {
     "base_uri": "https://localhost:8080/"
    },
    "id": "0RR8BHdOa9p_",
    "outputId": "baa662e9-7e6b-466a-b4d6-dde48c309067"
   },
   "outputs": [
    {
     "name": "stdout",
     "output_type": "stream",
     "text": [
      "[[ 1.  50.  11.6 18.4]]\n",
      "[[8.4]]\n"
     ]
    }
   ],
   "source": [
    "# Model Test (one sample)\n",
    "print(X_test[1])\n",
    "print(y_test[1])"
   ]
  },
  {
   "cell_type": "code",
   "execution_count": null,
   "metadata": {
    "colab": {
     "base_uri": "https://localhost:8080/"
    },
    "id": "EHSEgZT8b7a_",
    "outputId": "114a6a77-af77-4274-fba0-46a9d0c092a7"
   },
   "outputs": [],
   "source": [
    "# let us pass to model and see\n",
    "est = np.dot(X_test, beta)\n",
    "\n",
    "print(\"Estimated value is: \", np.sum(est))"
   ]
  },
  {
   "cell_type": "code",
   "execution_count": null,
   "metadata": {
    "colab": {
     "base_uri": "https://localhost:8080/"
    },
    "id": "CzjgyHVIe5K-",
    "outputId": "eb0cb84f-2955-408a-e730-a8d68af77e9d"
   },
   "outputs": [],
   "source": [
    "#Test the model\n",
    "pred = np.dot(X_test, beta)\n",
    "\n",
    "#RSS\n",
    "er = np.array(y_test-pred)\n",
    "\n",
    "RSS = np.sum(er*er)\n",
    "print(RSS)"
   ]
  },
  {
   "cell_type": "code",
   "execution_count": null,
   "metadata": {
    "colab": {
     "base_uri": "https://localhost:8080/",
     "height": 265
    },
    "id": "phO-RQyeODoT",
    "outputId": "0faad8d5-e5fa-4dd5-c738-48248967e0a2"
   },
   "outputs": [],
   "source": [
    "#Plotting the data\n",
    "import matplotlib.pyplot as plt\n",
    "plt.scatter(data[\"TV\"], data[\"Sales\"], c=\"blue\")\n",
    "plt.show()"
   ]
  },
  {
   "cell_type": "code",
   "execution_count": null,
   "metadata": {},
   "outputs": [],
   "source": [
    "pred.shape"
   ]
  },
  {
   "cell_type": "code",
   "execution_count": null,
   "metadata": {},
   "outputs": [],
   "source": [
    "X_test[:,1].shape"
   ]
  },
  {
   "cell_type": "code",
   "execution_count": 21,
   "metadata": {},
   "outputs": [
    {
     "data": {
      "image/png": "[encoded data removed]",
      "text/plain": [
       "<Figure size 432x288 with 1 Axes>"
      ]
     },
     "metadata": {
      "needs_background": "light"
     },
     "output_type": "display_data"
    }
   ],
   "source": [
    "import matplotlib.pyplot as plt\n",
    "\n",
    "#Test the model\n",
    "pred = np.dot(X_test, beta)\n",
    "\n",
    "plt.scatter([X_test[:,1]], [y_test], c=\"blue\")\n",
    "plt.scatter([X_test[:,1]], [pred], c='r')\n",
    "plt.show()"
   ]
  },
  {
   "cell_type": "code",
   "execution_count": null,
   "metadata": {
    "colab": {
     "base_uri": "https://localhost:8080/",
     "height": 265
    },
    "id": "v29qQdKsPnxy",
    "outputId": "079b9bf4-db76-405b-8517-426235f5bd14"
   },
   "outputs": [],
   "source": [
    "plt.scatter(data[\"Radio\"], data[\"Sales\"], c=\"blue\")\n",
    "plt.show()"
   ]
  },
  {
   "cell_type": "code",
   "execution_count": 22,
   "metadata": {},
   "outputs": [
    {
     "data": {
      "image/png": "[encoded data removed]",
      "text/plain": [
       "<Figure size 432x288 with 1 Axes>"
      ]
     },
     "metadata": {
      "needs_background": "light"
     },
     "output_type": "display_data"
    }
   ],
   "source": [
    "import matplotlib.pyplot as plt\n",
    "\n",
    "#Test the model\n",
    "plt.scatter([X_test[:,2]], [y_test], c=\"blue\")\n",
    "plt.scatter([X_test[:,2]], [pred], c='r')\n",
    "plt.show()"
   ]
  },
  {
   "cell_type": "code",
   "execution_count": null,
   "metadata": {
    "colab": {
     "base_uri": "https://localhost:8080/"
    },
    "id": "lL4bNx4iPwJa",
    "outputId": "c3ab6bc5-76f2-4bfe-a306-7761edf400c6"
   },
   "outputs": [],
   "source": [
    "#using sklearn\n",
    "\n",
    "from sklearn.linear_model import LinearRegression\n",
    "\n",
    "LR = LinearRegression()\n",
    "LR.fit(X_train, y_train)\n",
    "\n",
    "y_prediction = LR.predict(X_test)\n",
    "print(y_prediction)"
   ]
  },
  {
   "cell_type": "code",
   "execution_count": null,
   "metadata": {
    "colab": {
     "base_uri": "https://localhost:8080/"
    },
    "id": "AJQXBSEIVQ2C",
    "outputId": "c6efc866-8171-441e-e6b8-4c3a71a3d8c1"
   },
   "outputs": [],
   "source": [
    "# importing r2_score module\n",
    "from sklearn.metrics import r2_score\n",
    "\n",
    "score = r2_score(y_test, y_prediction)\n",
    "print(score)"
   ]
  },
  {
   "cell_type": "code",
   "execution_count": null,
   "metadata": {
    "colab": {
     "base_uri": "https://localhost:8080/"
    },
    "id": "hAMY6suGWLZa",
    "outputId": "cfd56d2c-a2ca-4940-b10c-5660d8256428"
   },
   "outputs": [],
   "source": [
    "print(\"Beta: \",LR.coef_)"
   ]
  },
  {
   "cell_type": "code",
   "execution_count": null,
   "metadata": {
    "colab": {
     "base_uri": "https://localhost:8080/"
    },
    "id": "k1Tjw2YOWQ5Z",
    "outputId": "42312d9f-da08-481f-f9d6-2a3493570899"
   },
   "outputs": [],
   "source": [
    "print(\"Intercept: \", LR.intercept_)"
   ]
  },
  {
   "cell_type": "code",
   "execution_count": null,
   "metadata": {
    "colab": {
     "base_uri": "https://localhost:8080/"
    },
    "id": "Cy07HwOYXE1i",
    "outputId": "8114013b-4c1d-4ba1-82f3-64dbeb96b979"
   },
   "outputs": [],
   "source": [
    "from sklearn.metrics import mean_squared_error\n",
    "print(\"Mean square error: \",mean_squared_error(y_test, y_prediction))"
   ]
  },
  {
   "cell_type": "code",
   "execution_count": null,
   "metadata": {},
   "outputs": [],
   "source": [
    "import matplotlib.pyplot as plt\n",
    "\n",
    "#Test the model\n",
    "pred = np.dot(X_test, beta)\n",
    "\n",
    "plt.scatter(data[\"Radio\"], data[\"Sales\"], c=\"blue\")\n",
    "plt.plot(data[\"Radio\"], pred, c='r')\n",
    "plt.show()"
   ]
  }
 ],
 "metadata": {
  "colab": {
   "name": "ML Implementation.ipynb",
   "provenance": []
  },
  "kernelspec": {
   "display_name": "Python 3 (ipykernel)",
   "language": "python",
   "name": "python3"
  },
  "language_info": {
   "codemirror_mode": {
    "name": "ipython",
    "version": 3
   },
   "file_extension": ".py",
   "mimetype": "text/x-python",
   "name": "python",
   "nbconvert_exporter": "python",
   "pygments_lexer": "ipython3",
   "version": "3.9.7"
  }
 },
 "nbformat": 4,
 "nbformat_minor": 1
}
